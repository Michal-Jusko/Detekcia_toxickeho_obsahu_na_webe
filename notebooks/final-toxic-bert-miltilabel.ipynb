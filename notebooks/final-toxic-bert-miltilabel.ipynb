{
 "cells": [
  {
   "cell_type": "markdown",
   "id": "26942905",
   "metadata": {},
   "source": [
    "## 📥 Dataset civil_comments – zmenšený multilabel sampling\n",
    "Tento blok vytvorí zmenšený, stratifikovaný multilabel dataset so všetkými triedami."
   ]
  },
  {
   "cell_type": "code",
   "execution_count": null,
   "id": "f666aaaa",
   "metadata": {},
   "outputs": [],
   "source": [
    "# 🔥 Úplné odstránenie nekompatibilných verzií\n",
    "!pip uninstall -y transformers huggingface-hub tokenizers sentence-transformers peft\n",
    "\n",
    "# 🧹 (ak máš oprávnenie) Vyčistenie cache\n",
    "!rm -rf /root/.cache/huggingface\n",
    "\n",
    "# ✅ Inštalácia stabilných verzií, ktoré sú 100 % kompatibilné s Trainer\n",
    "!pip install transformers==4.40.1 huggingface-hub==0.30.2 tokenizers==0.19.1\n"
   ]
  },
  {
   "cell_type": "code",
   "execution_count": null,
   "id": "e1e637c4",
   "metadata": {},
   "outputs": [],
   "source": [
    "\n",
    "!pip install -q datasets pandas scikit-learn numpy tqdm\n",
    "\n",
    "from datasets import load_dataset\n",
    "import pandas as pd\n",
    "from tqdm import tqdm\n",
    "\n",
    "# 📥 Načítanie datasetu\n",
    "print(\"📥 Načítavam dataset 'civil_comments'...\")\n",
    "dataset = load_dataset(\"civil_comments\")\n",
    "\n",
    "# 📌 Upravené štítky bez severe_toxicity\n",
    "label_columns = [\"toxicity\", \"obscene\", \"threat\", \"insult\", \"identity_attack\", \"sexual_explicit\"]\n",
    "df_train = pd.DataFrame(dataset[\"train\"])[[\"text\"] + label_columns]\n",
    "df_test = pd.DataFrame(dataset[\"test\"])[[\"text\"] + label_columns]\n",
    "\n",
    "# 🔄 Binarizácia: >= 0.5 → 1\n",
    "df_train[label_columns] = (df_train[label_columns] >= 0.5).astype(int)\n",
    "df_test[label_columns] = (df_test[label_columns] >= 0.5).astype(int)\n",
    "\n",
    "# 🧠 Sampling funkcia s progress barom\n",
    "def balanced_subset(df, label_cols, min_per_label):\n",
    "    samples = []\n",
    "    for col in tqdm(label_cols, desc=\"⏳ Sampling podľa štítkov\"):\n",
    "        n = min(min_per_label, df[col].sum())\n",
    "        samples.append(df[df[col] == 1].sample(n=n, random_state=42))\n",
    "    combined = pd.concat(samples).drop_duplicates().sample(frac=1, random_state=42)\n",
    "    return combined\n",
    "\n",
    "# 🧪 Výber zmenšených množín\n",
    "train_small = balanced_subset(df_train, label_columns, 3000)\n",
    "test_valid_pool = balanced_subset(df_test, label_columns, 500)\n",
    "valid_small = test_valid_pool.sample(frac=0.5, random_state=42)\n",
    "test_small = test_valid_pool.drop(index=valid_small.index)\n",
    "\n",
    "# ✅ Previesť všetky labely na float32\n",
    "for df in [train_small, valid_small, test_small]:\n",
    "    df[label_columns] = df[label_columns].astype(\"float32\")\n",
    "\n",
    "# 💾 Uloženie CSV\n",
    "train_small.to_csv(\"train_multilabel_small.csv\", index=False)\n",
    "valid_small.to_csv(\"valid_multilabel_small.csv\", index=False)\n",
    "test_small.to_csv(\"test_multilabel_small.csv\", index=False)\n",
    "\n",
    "print(f\"✅ Tréningový dataset: {len(train_small)} komentárov\")\n",
    "print(f\"✅ Validačný dataset: {len(valid_small)} komentárov\")\n",
    "print(f\"✅ Testovací dataset: {len(test_small)} komentárov\")\n",
    "print(\"\\n📊 Distribúcia trénovacích dát:\")\n",
    "print(train_small[label_columns].sum())\n",
    "print(\"\\n📊 Distribúcia validačných dát:\")\n",
    "print(valid_small[label_columns].sum())\n",
    "print(\"\\n📊 Distribúcia testovacích dát:\")\n",
    "print(test_small[label_columns].sum())\n"
   ]
  },
  {
   "cell_type": "code",
   "execution_count": 1,
   "id": "093351f9",
   "metadata": {
    "execution": {
     "iopub.execute_input": "2025-05-12T07:31:35.154550Z",
     "iopub.status.busy": "2025-05-12T07:31:35.153709Z",
     "iopub.status.idle": "2025-05-12T07:31:54.396094Z",
     "shell.execute_reply": "2025-05-12T07:31:54.395420Z",
     "shell.execute_reply.started": "2025-05-12T07:31:35.154523Z"
    }
   },
   "outputs": [
    {
     "name": "stderr",
     "output_type": "stream",
     "text": [
      "2025-05-12 07:31:43.515978: E external/local_xla/xla/stream_executor/cuda/cuda_fft.cc:477] Unable to register cuFFT factory: Attempting to register factory for plugin cuFFT when one has already been registered\n",
      "WARNING: All log messages before absl::InitializeLog() is called are written to STDERR\n",
      "E0000 00:00:1747035103.699457      91 cuda_dnn.cc:8310] Unable to register cuDNN factory: Attempting to register factory for plugin cuDNN when one has already been registered\n",
      "E0000 00:00:1747035103.752403      91 cuda_blas.cc:1418] Unable to register cuBLAS factory: Attempting to register factory for plugin cuBLAS when one has already been registered\n"
     ]
    },
    {
     "name": "stdout",
     "output_type": "stream",
     "text": [
      "Using device: cuda\n"
     ]
    }
   ],
   "source": [
    "\n",
    "import torch\n",
    "from transformers import AutoTokenizer, AutoModelForSequenceClassification, TrainingArguments, Trainer, EarlyStoppingCallback\n",
    "from datasets import load_dataset, DatasetDict, Dataset\n",
    "from sklearn.metrics import classification_report, confusion_matrix, precision_recall_curve, auc\n",
    "# import evaluate  # Removed (not used, sklearn used instead)\n",
    "import matplotlib.pyplot as plt\n",
    "import seaborn as sns\n",
    "import pandas as pd\n",
    "import numpy as np\n",
    "import random\n",
    "\n",
    "device = torch.device(\"cuda\" if torch.cuda.is_available() else \"cpu\")\n",
    "print(f\"Using device: {device}\")\n",
    "\n",
    "def set_seed(seed=42):\n",
    "    random.seed(seed)\n",
    "    np.random.seed(seed)\n",
    "    torch.manual_seed(seed)\n",
    "    torch.cuda.manual_seed_all(seed)\n",
    "\n",
    "set_seed(42)\n"
   ]
  },
  {
   "cell_type": "code",
   "execution_count": 5,
   "id": "88770188",
   "metadata": {
    "execution": {
     "iopub.execute_input": "2025-05-12T07:35:54.104228Z",
     "iopub.status.busy": "2025-05-12T07:35:54.103954Z",
     "iopub.status.idle": "2025-05-12T07:36:14.499433Z",
     "shell.execute_reply": "2025-05-12T07:36:14.498516Z",
     "shell.execute_reply.started": "2025-05-12T07:35:54.104209Z"
    }
   },
   "outputs": [
    {
     "name": "stderr",
     "output_type": "stream",
     "text": [
      "/usr/local/lib/python3.11/dist-packages/huggingface_hub/file_download.py:896: FutureWarning: `resume_download` is deprecated and will be removed in version 1.0.0. Downloads always resume when possible. If you want to force a new download, use `force_download=True`.\n",
      "  warnings.warn(\n"
     ]
    },
    {
     "data": {
      "application/vnd.jupyter.widget-view+json": {
       "model_id": "29916eb426a34564af57cae0e42f371b",
       "version_major": 2,
       "version_minor": 0
      },
      "text/plain": [
       "Map:   0%|          | 0/17190 [00:00<?, ? examples/s]"
      ]
     },
     "metadata": {},
     "output_type": "display_data"
    },
    {
     "data": {
      "application/vnd.jupyter.widget-view+json": {
       "model_id": "2bc963982f2545cc81727f3e13f51178",
       "version_major": 2,
       "version_minor": 0
      },
      "text/plain": [
       "Map:   0%|          | 0/1107 [00:00<?, ? examples/s]"
      ]
     },
     "metadata": {},
     "output_type": "display_data"
    },
    {
     "data": {
      "application/vnd.jupyter.widget-view+json": {
       "model_id": "4d3b88e675e4451282371dd0193d867d",
       "version_major": 2,
       "version_minor": 0
      },
      "text/plain": [
       "Map:   0%|          | 0/1107 [00:00<?, ? examples/s]"
      ]
     },
     "metadata": {},
     "output_type": "display_data"
    },
    {
     "data": {
      "application/vnd.jupyter.widget-view+json": {
       "model_id": "e387661473184fa28e4909e24959243d",
       "version_major": 2,
       "version_minor": 0
      },
      "text/plain": [
       "Map:   0%|          | 0/17190 [00:00<?, ? examples/s]"
      ]
     },
     "metadata": {},
     "output_type": "display_data"
    },
    {
     "data": {
      "application/vnd.jupyter.widget-view+json": {
       "model_id": "c26034974e5c45cc8b89b9ee68261e38",
       "version_major": 2,
       "version_minor": 0
      },
      "text/plain": [
       "Map:   0%|          | 0/1107 [00:00<?, ? examples/s]"
      ]
     },
     "metadata": {},
     "output_type": "display_data"
    },
    {
     "data": {
      "application/vnd.jupyter.widget-view+json": {
       "model_id": "f0e539301ec449a1aae9467a823e41dd",
       "version_major": 2,
       "version_minor": 0
      },
      "text/plain": [
       "Map:   0%|          | 0/1107 [00:00<?, ? examples/s]"
      ]
     },
     "metadata": {},
     "output_type": "display_data"
    }
   ],
   "source": [
    "\n",
    "from datasets import Dataset\n",
    "import pandas as pd\n",
    "from transformers import AutoTokenizer\n",
    "\n",
    "# ✅ Načítanie CSV a konverzia na Dataset\n",
    "train_df = pd.read_csv(\"/kaggle/input/miltilabel/train_multilabel_small(1).csv\")\n",
    "val_df = pd.read_csv(\"/kaggle/input/miltilabel/valid_multilabel_small.csv\")\n",
    "test_df = pd.read_csv(\"/kaggle/input/miltilabel/test_multilabel_small(1).csv\")\n",
    "\n",
    "train_ds = Dataset.from_pandas(train_df)\n",
    "val_ds = Dataset.from_pandas(val_df)\n",
    "test_ds = Dataset.from_pandas(test_df)\n",
    "\n",
    "# 🔢 Tokenizácia\n",
    "checkpoint = \"unitary/toxic-bert\"\n",
    "tokenizer = AutoTokenizer.from_pretrained(checkpoint)\n",
    "\n",
    "def tokenize_function(example):\n",
    "    return tokenizer(example[\"text\"], truncation=True, padding=\"max_length\", max_length=128)\n",
    "\n",
    "train_ds = train_ds.map(tokenize_function, batched=True)\n",
    "val_ds = val_ds.map(tokenize_function, batched=True)\n",
    "test_ds = test_ds.map(tokenize_function, batched=True)\n",
    "\n",
    "# 🎯 Nastavenie dát pre Trainer\n",
    "label_columns = ['toxicity', 'obscene', 'threat', 'insult', 'identity_attack', 'sexual_explicit']\n",
    "train_ds.set_format(type='torch', columns=['input_ids', 'attention_mask'] + label_columns)\n",
    "val_ds.set_format(type='torch', columns=['input_ids', 'attention_mask'] + label_columns)\n",
    "test_ds.set_format(type='torch', columns=['input_ids', 'attention_mask'] + label_columns)\n",
    "\n",
    "# 🧷 Vytvorenie 'labels' z viacerých štítkov\n",
    "def add_labels(example):\n",
    "    example[\"labels\"] = [example[col] for col in label_columns]\n",
    "    return example\n",
    "\n",
    "train_ds = train_ds.map(add_labels)\n",
    "val_ds = val_ds.map(add_labels)\n",
    "test_ds = test_ds.map(add_labels)\n",
    "\n",
    "# Nastavenie výstupných stĺpcov\n",
    "train_ds.set_format(type='torch', columns=['input_ids', 'attention_mask', 'labels'])\n",
    "val_ds.set_format(type='torch', columns=['input_ids', 'attention_mask', 'labels'])\n",
    "test_ds.set_format(type='torch', columns=['input_ids', 'attention_mask', 'labels'])\n"
   ]
  },
  {
   "cell_type": "code",
   "execution_count": 6,
   "id": "06e11648",
   "metadata": {
    "execution": {
     "iopub.execute_input": "2025-05-12T07:36:17.171045Z",
     "iopub.status.busy": "2025-05-12T07:36:17.170438Z",
     "iopub.status.idle": "2025-05-12T07:54:44.429576Z",
     "shell.execute_reply": "2025-05-12T07:54:44.428958Z",
     "shell.execute_reply.started": "2025-05-12T07:36:17.171017Z"
    }
   },
   "outputs": [
    {
     "data": {
      "text/html": [
       "\n",
       "    <div>\n",
       "      \n",
       "      <progress value='5375' max='5375' style='width:300px; height:20px; vertical-align: middle;'></progress>\n",
       "      [5375/5375 18:24, Epoch 5/5]\n",
       "    </div>\n",
       "    <table border=\"1\" class=\"dataframe\">\n",
       "  <thead>\n",
       " <tr style=\"text-align: left;\">\n",
       "      <th>Epoch</th>\n",
       "      <th>Training Loss</th>\n",
       "      <th>Validation Loss</th>\n",
       "      <th>Accuracy Micro</th>\n",
       "      <th>F1 Macro</th>\n",
       "      <th>F1 Micro</th>\n",
       "    </tr>\n",
       "  </thead>\n",
       "  <tbody>\n",
       "    <tr>\n",
       "      <td>1</td>\n",
       "      <td>0.264000</td>\n",
       "      <td>0.174979</td>\n",
       "      <td>0.676603</td>\n",
       "      <td>0.879571</td>\n",
       "      <td>0.912763</td>\n",
       "    </tr>\n",
       "    <tr>\n",
       "      <td>2</td>\n",
       "      <td>0.161800</td>\n",
       "      <td>0.167637</td>\n",
       "      <td>0.682927</td>\n",
       "      <td>0.881950</td>\n",
       "      <td>0.915425</td>\n",
       "    </tr>\n",
       "    <tr>\n",
       "      <td>3</td>\n",
       "      <td>0.137800</td>\n",
       "      <td>0.174362</td>\n",
       "      <td>0.686540</td>\n",
       "      <td>0.879535</td>\n",
       "      <td>0.914906</td>\n",
       "    </tr>\n",
       "    <tr>\n",
       "      <td>4</td>\n",
       "      <td>0.121000</td>\n",
       "      <td>0.172417</td>\n",
       "      <td>0.700994</td>\n",
       "      <td>0.884374</td>\n",
       "      <td>0.918438</td>\n",
       "    </tr>\n",
       "    <tr>\n",
       "      <td>5</td>\n",
       "      <td>0.110400</td>\n",
       "      <td>0.177422</td>\n",
       "      <td>0.693767</td>\n",
       "      <td>0.883134</td>\n",
       "      <td>0.916785</td>\n",
       "    </tr>\n",
       "  </tbody>\n",
       "</table><p>"
      ],
      "text/plain": [
       "<IPython.core.display.HTML object>"
      ]
     },
     "metadata": {},
     "output_type": "display_data"
    }
   ],
   "source": [
    "from transformers import AutoTokenizer, AutoConfig, AutoModelForSequenceClassification, TrainingArguments, Trainer, EarlyStoppingCallback\n",
    "# import evaluate  # Removed (not used, sklearn used instead)\n",
    "import numpy as np\n",
    "import torch\n",
    "\n",
    "# ✅ Definuj labely\n",
    "label_columns = [\"toxicity\", \"obscene\", \"threat\", \"insult\", \"identity_attack\", \"sexual_explicit\"]\n",
    "\n",
    "# ✅ Nastavenie checkpointu\n",
    "checkpoint = \"unitary/toxic-bert\"\n",
    "tokenizer = AutoTokenizer.from_pretrained(checkpoint)\n",
    "\n",
    "# ✅ Konfigurácia pre multilabel klasifikáciu\n",
    "config = AutoConfig.from_pretrained(checkpoint)\n",
    "config.num_labels = len(label_columns)\n",
    "config.problem_type = \"multi_label_classification\"\n",
    "\n",
    "# ✅ Model\n",
    "model = AutoModelForSequenceClassification.from_pretrained(\n",
    "    checkpoint,\n",
    "    config=config,\n",
    "    ignore_mismatched_sizes=True\n",
    ").to(device)\n",
    "\n",
    "# ✅ Metriky pre multilabel (F1 a accuracy s prahom 0.5)\n",
    "from sklearn.metrics import accuracy_score, f1_score\n",
    "\n",
    "# ✅ Metriky pre multilabel klasifikáciu\n",
    "def compute_metrics(eval_pred):\n",
    "    logits, labels = eval_pred\n",
    "    probs = torch.sigmoid(torch.tensor(logits)).numpy()\n",
    "    preds = (probs >= 0.5).astype(int)\n",
    "\n",
    "    return {\n",
    "        \"accuracy_micro\": accuracy_score(labels, preds),\n",
    "        \"f1_macro\": f1_score(labels, preds, average=\"macro\"),\n",
    "        \"f1_micro\": f1_score(labels, preds, average=\"micro\")\n",
    "    }\n",
    "\n",
    "\n",
    "# ✅ Tréningové argumenty\n",
    "training_args = TrainingArguments(\n",
    "    output_dir=\"./results\",\n",
    "    evaluation_strategy=\"epoch\",\n",
    "    save_strategy=\"epoch\",\n",
    "    logging_strategy=\"epoch\",\n",
    "    per_device_train_batch_size=16,\n",
    "    per_device_eval_batch_size=64,\n",
    "    num_train_epochs=5,\n",
    "    learning_rate=1e-5,\n",
    "    weight_decay=0.01,\n",
    "    load_best_model_at_end=True,\n",
    "    metric_for_best_model=\"f1_micro\",\n",
    "    greater_is_better=True,\n",
    "    report_to=\"none\"\n",
    ")\n",
    "\n",
    "# ✅ Tréner\n",
    "trainer = Trainer(\n",
    "    model=model,\n",
    "    args=training_args,\n",
    "    train_dataset=train_ds,\n",
    "    eval_dataset=val_ds,\n",
    "    tokenizer=tokenizer,\n",
    "    compute_metrics=compute_metrics,\n",
    "    callbacks=[EarlyStoppingCallback(early_stopping_patience=2)]\n",
    ")\n",
    "\n",
    "# ✅ Tréning\n",
    "train_result = trainer.train()\n"
   ]
  },
  {
   "cell_type": "code",
   "execution_count": 21,
   "id": "8bd21e50",
   "metadata": {
    "execution": {
     "iopub.execute_input": "2025-05-12T08:13:13.711597Z",
     "iopub.status.busy": "2025-05-12T08:13:13.711001Z",
     "iopub.status.idle": "2025-05-12T08:13:14.470234Z",
     "shell.execute_reply": "2025-05-12T08:13:14.469344Z",
     "shell.execute_reply.started": "2025-05-12T08:13:13.711574Z"
    }
   },
   "outputs": [
    {
     "data": {
      "image/png": "[encoded data removed]",
      "text/plain": [
       "<Figure size 1000x600 with 1 Axes>"
      ]
     },
     "metadata": {},
     "output_type": "display_data"
    },
    {
     "ename": "ValueError",
     "evalue": "x and y must have same first dimension, but have shapes (5,) and (0,)",
     "output_type": "error",
     "traceback": [
      "\u001b[0;31m---------------------------------------------------------------------------\u001b[0m",
      "\u001b[0;31mValueError\u001b[0m                                Traceback (most recent call last)",
      "\u001b[0;32m/tmp/ipykernel_91/2739148409.py\u001b[0m in \u001b[0;36m<cell line: 0>\u001b[0;34m()\u001b[0m\n\u001b[1;32m     27\u001b[0m \u001b[0;31m# Accuracy graf\u001b[0m\u001b[0;34m\u001b[0m\u001b[0;34m\u001b[0m\u001b[0m\n\u001b[1;32m     28\u001b[0m \u001b[0mplt\u001b[0m\u001b[0;34m.\u001b[0m\u001b[0mfigure\u001b[0m\u001b[0;34m(\u001b[0m\u001b[0mfigsize\u001b[0m\u001b[0;34m=\u001b[0m\u001b[0;34m(\u001b[0m\u001b[0;36m10\u001b[0m\u001b[0;34m,\u001b[0m \u001b[0;36m6\u001b[0m\u001b[0;34m)\u001b[0m\u001b[0;34m)\u001b[0m\u001b[0;34m\u001b[0m\u001b[0;34m\u001b[0m\u001b[0m\n\u001b[0;32m---> 29\u001b[0;31m \u001b[0mplt\u001b[0m\u001b[0;34m.\u001b[0m\u001b[0mplot\u001b[0m\u001b[0;34m(\u001b[0m\u001b[0mepochs\u001b[0m\u001b[0;34m,\u001b[0m \u001b[0macc_epoch\u001b[0m\u001b[0;34m,\u001b[0m \u001b[0mlabel\u001b[0m\u001b[0;34m=\u001b[0m\u001b[0;34m\"Validation Accuracy\"\u001b[0m\u001b[0;34m,\u001b[0m \u001b[0mmarker\u001b[0m\u001b[0;34m=\u001b[0m\u001b[0;34m's'\u001b[0m\u001b[0;34m,\u001b[0m \u001b[0mcolor\u001b[0m\u001b[0;34m=\u001b[0m\u001b[0;34m\"green\"\u001b[0m\u001b[0;34m,\u001b[0m \u001b[0mlinewidth\u001b[0m\u001b[0;34m=\u001b[0m\u001b[0;36m2\u001b[0m\u001b[0;34m)\u001b[0m\u001b[0;34m\u001b[0m\u001b[0;34m\u001b[0m\u001b[0m\n\u001b[0m\u001b[1;32m     30\u001b[0m \u001b[0mplt\u001b[0m\u001b[0;34m.\u001b[0m\u001b[0mplot\u001b[0m\u001b[0;34m(\u001b[0m\u001b[0mepochs\u001b[0m\u001b[0;34m,\u001b[0m \u001b[0mval_loss_epoch\u001b[0m\u001b[0;34m,\u001b[0m \u001b[0mlabel\u001b[0m\u001b[0;34m=\u001b[0m\u001b[0;34m\"Validation Loss\"\u001b[0m\u001b[0;34m,\u001b[0m \u001b[0mcolor\u001b[0m\u001b[0;34m=\u001b[0m\u001b[0;34m\"orange\"\u001b[0m\u001b[0;34m,\u001b[0m \u001b[0mlinewidth\u001b[0m\u001b[0;34m=\u001b[0m\u001b[0;36m2\u001b[0m\u001b[0;34m)\u001b[0m\u001b[0;34m\u001b[0m\u001b[0;34m\u001b[0m\u001b[0m\n\u001b[1;32m     31\u001b[0m \u001b[0mplt\u001b[0m\u001b[0;34m.\u001b[0m\u001b[0mxlabel\u001b[0m\u001b[0;34m(\u001b[0m\u001b[0;34m\"Epochs\"\u001b[0m\u001b[0;34m)\u001b[0m\u001b[0;34m\u001b[0m\u001b[0;34m\u001b[0m\u001b[0m\n",
      "\u001b[0;32m/usr/local/lib/python3.11/dist-packages/matplotlib/pyplot.py\u001b[0m in \u001b[0;36mplot\u001b[0;34m(scalex, scaley, data, *args, **kwargs)\u001b[0m\n\u001b[1;32m   2810\u001b[0m \u001b[0;34m@\u001b[0m\u001b[0m_copy_docstring_and_deprecators\u001b[0m\u001b[0;34m(\u001b[0m\u001b[0mAxes\u001b[0m\u001b[0;34m.\u001b[0m\u001b[0mplot\u001b[0m\u001b[0;34m)\u001b[0m\u001b[0;34m\u001b[0m\u001b[0;34m\u001b[0m\u001b[0m\n\u001b[1;32m   2811\u001b[0m \u001b[0;32mdef\u001b[0m \u001b[0mplot\u001b[0m\u001b[0;34m(\u001b[0m\u001b[0;34m*\u001b[0m\u001b[0margs\u001b[0m\u001b[0;34m,\u001b[0m \u001b[0mscalex\u001b[0m\u001b[0;34m=\u001b[0m\u001b[0;32mTrue\u001b[0m\u001b[0;34m,\u001b[0m \u001b[0mscaley\u001b[0m\u001b[0;34m=\u001b[0m\u001b[0;32mTrue\u001b[0m\u001b[0;34m,\u001b[0m \u001b[0mdata\u001b[0m\u001b[0;34m=\u001b[0m\u001b[0;32mNone\u001b[0m\u001b[0;34m,\u001b[0m \u001b[0;34m**\u001b[0m\u001b[0mkwargs\u001b[0m\u001b[0;34m)\u001b[0m\u001b[0;34m:\u001b[0m\u001b[0;34m\u001b[0m\u001b[0;34m\u001b[0m\u001b[0m\n\u001b[0;32m-> 2812\u001b[0;31m     return gca().plot(\n\u001b[0m\u001b[1;32m   2813\u001b[0m         \u001b[0;34m*\u001b[0m\u001b[0margs\u001b[0m\u001b[0;34m,\u001b[0m \u001b[0mscalex\u001b[0m\u001b[0;34m=\u001b[0m\u001b[0mscalex\u001b[0m\u001b[0;34m,\u001b[0m \u001b[0mscaley\u001b[0m\u001b[0;34m=\u001b[0m\u001b[0mscaley\u001b[0m\u001b[0;34m,\u001b[0m\u001b[0;34m\u001b[0m\u001b[0;34m\u001b[0m\u001b[0m\n\u001b[1;32m   2814\u001b[0m         **({\"data\": data} if data is not None else {}), **kwargs)\n",
      "\u001b[0;32m/usr/local/lib/python3.11/dist-packages/matplotlib/axes/_axes.py\u001b[0m in \u001b[0;36mplot\u001b[0;34m(self, scalex, scaley, data, *args, **kwargs)\u001b[0m\n\u001b[1;32m   1686\u001b[0m         \"\"\"\n\u001b[1;32m   1687\u001b[0m         \u001b[0mkwargs\u001b[0m \u001b[0;34m=\u001b[0m \u001b[0mcbook\u001b[0m\u001b[0;34m.\u001b[0m\u001b[0mnormalize_kwargs\u001b[0m\u001b[0;34m(\u001b[0m\u001b[0mkwargs\u001b[0m\u001b[0;34m,\u001b[0m \u001b[0mmlines\u001b[0m\u001b[0;34m.\u001b[0m\u001b[0mLine2D\u001b[0m\u001b[0;34m)\u001b[0m\u001b[0;34m\u001b[0m\u001b[0;34m\u001b[0m\u001b[0m\n\u001b[0;32m-> 1688\u001b[0;31m         \u001b[0mlines\u001b[0m \u001b[0;34m=\u001b[0m \u001b[0;34m[\u001b[0m\u001b[0;34m*\u001b[0m\u001b[0mself\u001b[0m\u001b[0;34m.\u001b[0m\u001b[0m_get_lines\u001b[0m\u001b[0;34m(\u001b[0m\u001b[0;34m*\u001b[0m\u001b[0margs\u001b[0m\u001b[0;34m,\u001b[0m \u001b[0mdata\u001b[0m\u001b[0;34m=\u001b[0m\u001b[0mdata\u001b[0m\u001b[0;34m,\u001b[0m \u001b[0;34m**\u001b[0m\u001b[0mkwargs\u001b[0m\u001b[0;34m)\u001b[0m\u001b[0;34m]\u001b[0m\u001b[0;34m\u001b[0m\u001b[0;34m\u001b[0m\u001b[0m\n\u001b[0m\u001b[1;32m   1689\u001b[0m         \u001b[0;32mfor\u001b[0m \u001b[0mline\u001b[0m \u001b[0;32min\u001b[0m \u001b[0mlines\u001b[0m\u001b[0;34m:\u001b[0m\u001b[0;34m\u001b[0m\u001b[0;34m\u001b[0m\u001b[0m\n\u001b[1;32m   1690\u001b[0m             \u001b[0mself\u001b[0m\u001b[0;34m.\u001b[0m\u001b[0madd_line\u001b[0m\u001b[0;34m(\u001b[0m\u001b[0mline\u001b[0m\u001b[0;34m)\u001b[0m\u001b[0;34m\u001b[0m\u001b[0;34m\u001b[0m\u001b[0m\n",
      "\u001b[0;32m/usr/local/lib/python3.11/dist-packages/matplotlib/axes/_base.py\u001b[0m in \u001b[0;36m__call__\u001b[0;34m(self, data, *args, **kwargs)\u001b[0m\n\u001b[1;32m    309\u001b[0m                 \u001b[0mthis\u001b[0m \u001b[0;34m+=\u001b[0m \u001b[0margs\u001b[0m\u001b[0;34m[\u001b[0m\u001b[0;36m0\u001b[0m\u001b[0;34m]\u001b[0m\u001b[0;34m,\u001b[0m\u001b[0;34m\u001b[0m\u001b[0;34m\u001b[0m\u001b[0m\n\u001b[1;32m    310\u001b[0m                 \u001b[0margs\u001b[0m \u001b[0;34m=\u001b[0m \u001b[0margs\u001b[0m\u001b[0;34m[\u001b[0m\u001b[0;36m1\u001b[0m\u001b[0;34m:\u001b[0m\u001b[0;34m]\u001b[0m\u001b[0;34m\u001b[0m\u001b[0;34m\u001b[0m\u001b[0m\n\u001b[0;32m--> 311\u001b[0;31m             yield from self._plot_args(\n\u001b[0m\u001b[1;32m    312\u001b[0m                 this, kwargs, ambiguous_fmt_datakey=ambiguous_fmt_datakey)\n\u001b[1;32m    313\u001b[0m \u001b[0;34m\u001b[0m\u001b[0m\n",
      "\u001b[0;32m/usr/local/lib/python3.11/dist-packages/matplotlib/axes/_base.py\u001b[0m in \u001b[0;36m_plot_args\u001b[0;34m(self, tup, kwargs, return_kwargs, ambiguous_fmt_datakey)\u001b[0m\n\u001b[1;32m    502\u001b[0m \u001b[0;34m\u001b[0m\u001b[0m\n\u001b[1;32m    503\u001b[0m         \u001b[0;32mif\u001b[0m \u001b[0mx\u001b[0m\u001b[0;34m.\u001b[0m\u001b[0mshape\u001b[0m\u001b[0;34m[\u001b[0m\u001b[0;36m0\u001b[0m\u001b[0;34m]\u001b[0m \u001b[0;34m!=\u001b[0m \u001b[0my\u001b[0m\u001b[0;34m.\u001b[0m\u001b[0mshape\u001b[0m\u001b[0;34m[\u001b[0m\u001b[0;36m0\u001b[0m\u001b[0;34m]\u001b[0m\u001b[0;34m:\u001b[0m\u001b[0;34m\u001b[0m\u001b[0;34m\u001b[0m\u001b[0m\n\u001b[0;32m--> 504\u001b[0;31m             raise ValueError(f\"x and y must have same first dimension, but \"\n\u001b[0m\u001b[1;32m    505\u001b[0m                              f\"have shapes {x.shape} and {y.shape}\")\n\u001b[1;32m    506\u001b[0m         \u001b[0;32mif\u001b[0m \u001b[0mx\u001b[0m\u001b[0;34m.\u001b[0m\u001b[0mndim\u001b[0m \u001b[0;34m>\u001b[0m \u001b[0;36m2\u001b[0m \u001b[0;32mor\u001b[0m \u001b[0my\u001b[0m\u001b[0;34m.\u001b[0m\u001b[0mndim\u001b[0m \u001b[0;34m>\u001b[0m \u001b[0;36m2\u001b[0m\u001b[0;34m:\u001b[0m\u001b[0;34m\u001b[0m\u001b[0;34m\u001b[0m\u001b[0m\n",
      "\u001b[0;31mValueError\u001b[0m: x and y must have same first dimension, but have shapes (5,) and (0,)"
     ]
    },
    {
     "data": {
      "image/png": "[encoded data removed]",
      "text/plain": [
       "<Figure size 1000x600 with 1 Axes>"
      ]
     },
     "metadata": {},
     "output_type": "display_data"
    }
   ],
   "source": [
    "\n",
    "# 📊 Upravené grafy pre Loss a Accuracy po epochách\n",
    "\n",
    "epoch_logs = [x for x in trainer.state.log_history if \"epoch\" in x and \"eval_loss\" in x]\n",
    "\n",
    "train_loss_epoch = [x[\"loss\"] for x in trainer.state.log_history if \"loss\" in x and \"epoch\" in x]\n",
    "val_loss_epoch = [x[\"eval_loss\"] for x in epoch_logs]\n",
    "f1_micro_epoch = [x[\"eval_f1_micro\"] for x in epoch_logs if \"eval_f1_micro\" in x]\n",
    "acc_epoch = [x[\"eval_accuracy\"] for x in epoch_logs if \"eval_accuracy\" in x]\n",
    "\n",
    "\n",
    "epochs = [x[\"epoch\"] for x in epoch_logs]\n",
    "\n",
    "# Loss graf\n",
    "plt.figure(figsize=(10, 6))\n",
    "plt.plot(epochs, train_loss_epoch, label=\"Train Loss\", color=\"blue\", linewidth=2)\n",
    "plt.plot(epochs, val_loss_epoch, label=\"Validation Loss\", color=\"orange\", linewidth=2)\n",
    "plt.xlabel(\"Epochs\")\n",
    "plt.ylabel(\"Loss\")\n",
    "plt.title(\"Loss Over Epochs\")\n",
    "plt.legend()\n",
    "plt.grid(True)\n",
    "plt.tight_layout()\n",
    "plt.savefig(f\"/kaggle/working/results/loss_clean_graph.png\", dpi=300)\n",
    "\n",
    "plt.show()\n",
    "\n",
    "# Accuracy graf\n",
    "plt.figure(figsize=(10, 6))\n",
    "plt.plot(epochs, acc_epoch, label=\"Validation Accuracy\", marker='s', color=\"green\", linewidth=2)\n",
    "plt.plot(epochs, val_loss_epoch, label=\"Validation Loss\", color=\"orange\", linewidth=2)\n",
    "plt.xlabel(\"Epochs\")\n",
    "plt.ylabel(\"Accuracy\")\n",
    "plt.title(\"Model Accuracy Over Epochs\")\n",
    "plt.grid(True)\n",
    "plt.legend()\n",
    "plt.tight_layout()\n",
    "plt.savefig(f\"/kaggle/working/results/accuracy_graph.png\", dpi=300)\n",
    "plt.show()\n"
   ]
  },
  {
   "cell_type": "code",
   "execution_count": 10,
   "id": "a4f1fb5e",
   "metadata": {
    "execution": {
     "iopub.execute_input": "2025-05-12T07:55:36.378681Z",
     "iopub.status.busy": "2025-05-12T07:55:36.378197Z",
     "iopub.status.idle": "2025-05-12T07:55:45.105636Z",
     "shell.execute_reply": "2025-05-12T07:55:45.105105Z",
     "shell.execute_reply.started": "2025-05-12T07:55:36.378657Z"
    }
   },
   "outputs": [
    {
     "data": {
      "text/html": [],
      "text/plain": [
       "<IPython.core.display.HTML object>"
      ]
     },
     "metadata": {},
     "output_type": "display_data"
    },
    {
     "name": "stdout",
     "output_type": "stream",
     "text": [
      "                 precision    recall  f1-score  support\n",
      "toxicity          0.953804  0.997159  0.975000   1056.0\n",
      "obscene           0.858209  0.920000  0.888031    250.0\n",
      "threat            0.833333  0.913978  0.871795     93.0\n",
      "insult            0.868671  0.868671  0.868671    632.0\n",
      "identity_attack   0.867159  0.883459  0.875233    266.0\n",
      "sexual_explicit   0.677019  0.893443  0.770318    122.0\n",
      "micro avg         0.890859  0.934684  0.912245   2419.0\n",
      "macro avg         0.843032  0.912785  0.874841   2419.0\n",
      "weighted avg      0.893564  0.934684  0.912970   2419.0\n",
      "samples avg       0.903162  0.945047  0.909732   2419.0\n",
      "MCC for toxicity: -0.0115\n",
      "MCC for obscene: 0.8548\n",
      "MCC for threat: 0.8605\n",
      "MCC for insult: 0.6939\n",
      "MCC for identity_attack: 0.8353\n",
      "MCC for sexual_explicit: 0.7467\n"
     ]
    }
   ],
   "source": [
    "\n",
    "from sklearn.metrics import classification_report, confusion_matrix, precision_recall_curve, roc_curve, roc_auc_score, matthews_corrcoef, auc\n",
    "import seaborn as sns\n",
    "import matplotlib.pyplot as plt\n",
    "import pandas as pd\n",
    "import torch\n",
    "import numpy as np\n",
    "import os\n",
    "\n",
    "# ✅ Výstupný priečinok\n",
    "output_dir = \"./results\"\n",
    "os.makedirs(output_dir, exist_ok=True)\n",
    "\n",
    "# ✅ Predikcie na testovacej množine\n",
    "preds_output = trainer.predict(test_ds)\n",
    "logits = torch.tensor(preds_output.predictions)\n",
    "probs = torch.sigmoid(logits).numpy()\n",
    "labels = preds_output.label_ids\n",
    "final_preds = (probs >= 0.5).astype(int)\n",
    "\n",
    "# ✅ Zoznam štítkov (musí byť definovaný skôr v kóde)\n",
    "# label_columns = [\"toxicity\", \"obscene\", \"threat\", \"insult\", \"identity_attack\", \"sexual_explicit\"]\n",
    "\n",
    "# 📄 Classification Report\n",
    "report = classification_report(labels, final_preds, target_names=label_columns, digits=4, output_dict=True)\n",
    "pd.DataFrame(report).transpose().to_csv(f\"{output_dir}/classification_report_multilabel.csv\")\n",
    "print(pd.DataFrame(report).transpose())\n",
    "\n",
    "# 📌 MCC – priemerný cez všetky štítky\n",
    "mcc_scores = [matthews_corrcoef(labels[:, i], final_preds[:, i]) for i in range(len(label_columns))]\n",
    "for label, mcc in zip(label_columns, mcc_scores):\n",
    "    print(f\"MCC for {label}: {mcc:.4f}\")\n",
    "\n",
    "# 📊 Confusion matrix pre každý štítok\n",
    "for i, label in enumerate(label_columns):\n",
    "    cm = confusion_matrix(labels[:, i], final_preds[:, i])\n",
    "    plt.figure(figsize=(4, 3))\n",
    "    sns.heatmap(cm, annot=True, fmt=\"d\", cmap=\"Blues\",\n",
    "                xticklabels=[\"Non-toxic\", \"Toxic\"],\n",
    "                yticklabels=[\"Non-toxic\", \"Toxic\"])\n",
    "    plt.title(f\"Confusion Matrix – {label}\")\n",
    "    plt.xlabel(\"Predicted\")\n",
    "    plt.ylabel(\"Actual\")\n",
    "    plt.tight_layout()\n",
    "    plt.savefig(f\"{output_dir}/confusion_matrix_{label}.png\", dpi=300)\n",
    "    plt.close()\n",
    "\n",
    "# 📈 ROC & PR krivky pre každý štítok\n",
    "for i, label in enumerate(label_columns):\n",
    "    fpr, tpr, _ = roc_curve(labels[:, i], probs[:, i])\n",
    "    precision, recall, _ = precision_recall_curve(labels[:, i], probs[:, i])\n",
    "    roc_auc = roc_auc_score(labels[:, i], probs[:, i])\n",
    "    pr_auc = auc(recall, precision)\n",
    "\n",
    "    # ROC curve\n",
    "    plt.figure(figsize=(6, 5))\n",
    "    plt.plot(fpr, tpr, label=f\"ROC AUC = {roc_auc:.4f}\", color=\"darkorange\")\n",
    "    plt.plot([0, 1], [0, 1], \"k--\")\n",
    "    plt.xlabel(\"False Positive Rate\")\n",
    "    plt.ylabel(\"True Positive Rate\")\n",
    "    plt.title(f\"ROC Curve – {label}\")\n",
    "    plt.legend()\n",
    "    plt.grid(True)\n",
    "    plt.tight_layout()\n",
    "    plt.savefig(f\"{output_dir}/roc_curve_{label}.png\", dpi=300)\n",
    "    plt.close()\n",
    "\n",
    "    # PR curve\n",
    "    plt.figure(figsize=(6, 5))\n",
    "    plt.plot(recall, precision, label=f\"PR AUC = {pr_auc:.4f}\", color=\"blue\")\n",
    "    plt.xlabel(\"Recall\")\n",
    "    plt.ylabel(\"Precision\")\n",
    "    plt.title(f\"Precision-Recall Curve – {label}\")\n",
    "    plt.legend()\n",
    "    plt.grid(True)\n",
    "    plt.tight_layout()\n",
    "    plt.savefig(f\"{output_dir}/pr_curve_{label}.png\", dpi=300)\n",
    "    plt.close()"
   ]
  },
  {
   "cell_type": "code",
   "execution_count": 25,
   "id": "673c47ed-2640-451f-8461-8af98cd39917",
   "metadata": {
    "execution": {
     "iopub.execute_input": "2025-05-12T08:34:10.146186Z",
     "iopub.status.busy": "2025-05-12T08:34:10.145862Z",
     "iopub.status.idle": "2025-05-12T08:34:10.160475Z",
     "shell.execute_reply": "2025-05-12T08:34:10.159799Z",
     "shell.execute_reply.started": "2025-05-12T08:34:10.146160Z"
    }
   },
   "outputs": [
    {
     "name": "stdout",
     "output_type": "stream",
     "text": [
      "✅ Všetky PNG súbory boli zabalené do model_visualizations.zip\n"
     ]
    }
   ],
   "source": [
    "import zipfile\n",
    "import os\n",
    "\n",
    "# Názov výstupného ZIP súboru\n",
    "zip_filename = \"model_visualizations.zip\"\n",
    "output_dir = \"./results\"\n",
    "\n",
    "# Vytvorenie ZIP archívu\n",
    "with zipfile.ZipFile(zip_filename, 'w') as zipf:\n",
    "    for root, _, files in os.walk(output_dir):\n",
    "        for file in files:\n",
    "            if file.endswith(\".png\"):\n",
    "                file_path = os.path.join(root, file)\n",
    "                zipf.write(file_path, arcname=os.path.relpath(file_path, output_dir))\n",
    "\n",
    "print(f\"✅ Všetky PNG súbory boli zabalené do {zip_filename}\")\n"
   ]
  },
  {
   "cell_type": "code",
   "execution_count": 11,
   "id": "6f278cc5",
   "metadata": {
    "execution": {
     "iopub.execute_input": "2025-05-12T07:55:49.450016Z",
     "iopub.status.busy": "2025-05-12T07:55:49.449543Z",
     "iopub.status.idle": "2025-05-12T07:55:49.487397Z",
     "shell.execute_reply": "2025-05-12T07:55:49.486869Z",
     "shell.execute_reply.started": "2025-05-12T07:55:49.449993Z"
    }
   },
   "outputs": [
    {
     "name": "stdout",
     "output_type": "stream",
     "text": [
      "F1 micro: 0.9122\n",
      "F1 macro: 0.8748\n",
      "F1 weighted: 0.9130\n",
      "Precision micro: 0.8909\n",
      "Precision macro: 0.8430\n",
      "Precision weighted: 0.8936\n",
      "Recall micro: 0.9347\n",
      "Recall macro: 0.9128\n",
      "Recall weighted: 0.9347\n"
     ]
    },
    {
     "data": {
      "text/html": [
       "<div>\n",
       "<style scoped>\n",
       "    .dataframe tbody tr th:only-of-type {\n",
       "        vertical-align: middle;\n",
       "    }\n",
       "\n",
       "    .dataframe tbody tr th {\n",
       "        vertical-align: top;\n",
       "    }\n",
       "\n",
       "    .dataframe thead th {\n",
       "        text-align: right;\n",
       "    }\n",
       "</style>\n",
       "<table border=\"1\" class=\"dataframe\">\n",
       "  <thead>\n",
       "    <tr style=\"text-align: right;\">\n",
       "      <th></th>\n",
       "      <th>F1</th>\n",
       "      <th>Precision</th>\n",
       "      <th>Recall</th>\n",
       "    </tr>\n",
       "  </thead>\n",
       "  <tbody>\n",
       "    <tr>\n",
       "      <th>micro</th>\n",
       "      <td>0.912245</td>\n",
       "      <td>0.890859</td>\n",
       "      <td>0.934684</td>\n",
       "    </tr>\n",
       "    <tr>\n",
       "      <th>macro</th>\n",
       "      <td>0.874841</td>\n",
       "      <td>0.843032</td>\n",
       "      <td>0.912785</td>\n",
       "    </tr>\n",
       "    <tr>\n",
       "      <th>weighted</th>\n",
       "      <td>0.912970</td>\n",
       "      <td>0.893564</td>\n",
       "      <td>0.934684</td>\n",
       "    </tr>\n",
       "  </tbody>\n",
       "</table>\n",
       "</div>"
      ],
      "text/plain": [
       "                F1  Precision    Recall\n",
       "micro     0.912245   0.890859  0.934684\n",
       "macro     0.874841   0.843032  0.912785\n",
       "weighted  0.912970   0.893564  0.934684"
      ]
     },
     "execution_count": 11,
     "metadata": {},
     "output_type": "execute_result"
    }
   ],
   "source": [
    "\n",
    "from sklearn.metrics import precision_score, recall_score, f1_score\n",
    "\n",
    "# Výpočet mikro, makro a weighted metrík\n",
    "f1_micro = f1_score(labels, final_preds, average='micro')\n",
    "f1_macro = f1_score(labels, final_preds, average='macro')\n",
    "f1_weighted = f1_score(labels, final_preds, average='weighted')\n",
    "\n",
    "precision_micro = precision_score(labels, final_preds, average='micro')\n",
    "precision_macro = precision_score(labels, final_preds, average='macro')\n",
    "precision_weighted = precision_score(labels, final_preds, average='weighted')\n",
    "\n",
    "recall_micro = recall_score(labels, final_preds, average='micro')\n",
    "recall_macro = recall_score(labels, final_preds, average='macro')\n",
    "recall_weighted = recall_score(labels, final_preds, average='weighted')\n",
    "\n",
    "print(f\"F1 micro: {f1_micro:.4f}\")\n",
    "print(f\"F1 macro: {f1_macro:.4f}\")\n",
    "print(f\"F1 weighted: {f1_weighted:.4f}\")\n",
    "print(f\"Precision micro: {precision_micro:.4f}\")\n",
    "print(f\"Precision macro: {precision_macro:.4f}\")\n",
    "print(f\"Precision weighted: {precision_weighted:.4f}\")\n",
    "print(f\"Recall micro: {recall_micro:.4f}\")\n",
    "print(f\"Recall macro: {recall_macro:.4f}\")\n",
    "print(f\"Recall weighted: {recall_weighted:.4f}\")\n",
    "\n",
    "# Uloženie do CSV pre bakalársku prácu\n",
    "import pandas as pd\n",
    "metrics_summary = pd.DataFrame({\n",
    "    \"F1\": [f1_micro, f1_macro, f1_weighted],\n",
    "    \"Precision\": [precision_micro, precision_macro, precision_weighted],\n",
    "    \"Recall\": [recall_micro, recall_macro, recall_weighted]\n",
    "}, index=[\"micro\", \"macro\", \"weighted\"])\n",
    "\n",
    "metrics_summary.to_csv(f\"{output_dir}/micro_macro_metrics.csv\", float_format=\"%.4f\")\n",
    "metrics_summary\n"
   ]
  },
  {
   "cell_type": "code",
   "execution_count": 12,
   "id": "9faf10ee-ed69-4c07-9c67-5dbb4e98234c",
   "metadata": {
    "execution": {
     "iopub.execute_input": "2025-05-12T07:55:53.342530Z",
     "iopub.status.busy": "2025-05-12T07:55:53.341977Z",
     "iopub.status.idle": "2025-05-12T07:55:57.536494Z",
     "shell.execute_reply": "2025-05-12T07:55:57.535891Z",
     "shell.execute_reply.started": "2025-05-12T07:55:53.342507Z"
    }
   },
   "outputs": [
    {
     "data": {
      "text/html": [],
      "text/plain": [
       "<IPython.core.display.HTML object>"
      ]
     },
     "metadata": {},
     "output_type": "display_data"
    },
    {
     "name": "stdout",
     "output_type": "stream",
     "text": [
      "🔎 Metriky pre každú triedu:\n",
      "------------------------------------------------------------\n",
      "toxicity             | MCC: 0.1176 | ROC AUC: 0.6907 | PR AUC: 0.9692\n",
      "obscene              | MCC: 0.3942 | ROC AUC: 0.9748 | PR AUC: 0.9245\n",
      "threat               | MCC: 0.8176 | ROC AUC: 0.9945 | PR AUC: 0.9479\n",
      "insult               | MCC: 0.2832 | ROC AUC: 0.9266 | PR AUC: 0.9450\n",
      "identity_attack      | MCC: 0.7132 | ROC AUC: 0.9682 | PR AUC: 0.9237\n",
      "sexual_explicit      | MCC: 0.6935 | ROC AUC: 0.9816 | PR AUC: 0.8496\n"
     ]
    }
   ],
   "source": [
    "# 📊 Získanie predikcií na testovacej množine\n",
    "preds_output = trainer.predict(test_ds)\n",
    "labels = preds_output.label_ids\n",
    "probs = torch.nn.functional.softmax(torch.tensor(preds_output.predictions), dim=1).numpy()\n",
    "preds = (probs > 0.5).astype(int)\n",
    "\n",
    "# 🏷️ Definícia názvov štítkov (labelov)\n",
    "label_cols = [\"toxicity\", \"obscene\", \"threat\", \"insult\", \"identity_attack\", \"sexual_explicit\"]\n",
    "\n",
    "# 📈 Výpočet MCC, ROC AUC a PR AUC pre každú triedu\n",
    "from sklearn.metrics import matthews_corrcoef, roc_auc_score, precision_recall_curve, auc\n",
    "\n",
    "print(\"🔎 Metriky pre každú triedu:\")\n",
    "print(\"-\" * 60)\n",
    "for i, label in enumerate(label_cols):\n",
    "    mcc = matthews_corrcoef(labels[:, i], preds[:, i])\n",
    "    try:\n",
    "        roc_auc = roc_auc_score(labels[:, i], probs[:, i])\n",
    "    except:\n",
    "        roc_auc = float('nan')\n",
    "    precision, recall, _ = precision_recall_curve(labels[:, i], probs[:, i])\n",
    "    pr_auc = auc(recall, precision)\n",
    "    print(f\"{label:20} | MCC: {mcc:.4f} | ROC AUC: {roc_auc:.4f} | PR AUC: {pr_auc:.4f}\")\n"
   ]
  },
  {
   "cell_type": "code",
   "execution_count": 14,
   "id": "75bc6003",
   "metadata": {
    "execution": {
     "iopub.execute_input": "2025-05-12T07:56:06.139147Z",
     "iopub.status.busy": "2025-05-12T07:56:06.138867Z",
     "iopub.status.idle": "2025-05-12T07:56:06.152881Z",
     "shell.execute_reply": "2025-05-12T07:56:06.152175Z",
     "shell.execute_reply.started": "2025-05-12T07:56:06.139128Z"
    }
   },
   "outputs": [
    {
     "name": "stderr",
     "output_type": "stream",
     "text": [
      "/usr/local/lib/python3.11/dist-packages/sklearn/metrics/_classification.py:1344: UndefinedMetricWarning: Precision and F-score are ill-defined and being set to 0.0 in samples with no predicted labels. Use `zero_division` parameter to control this behavior.\n",
      "  _warn_prf(average, modifier, msg_start, len(result))\n"
     ]
    }
   ],
   "source": [
    "# 💾 Uloženie klasifikačného reportu aj ako TXT\n",
    "from sklearn.metrics import classification_report\n",
    "\n",
    "report_txt = classification_report(labels, preds, target_names=label_cols, digits=4)\n",
    "with open(\"results/classification_report.txt\", \"w\") as f:\n",
    "    f.write(report_txt)\n"
   ]
  },
  {
   "cell_type": "code",
   "execution_count": 13,
   "id": "cb801807",
   "metadata": {
    "execution": {
     "iopub.execute_input": "2025-05-12T07:56:01.349957Z",
     "iopub.status.busy": "2025-05-12T07:56:01.349359Z",
     "iopub.status.idle": "2025-05-12T07:56:01.377102Z",
     "shell.execute_reply": "2025-05-12T07:56:01.376491Z",
     "shell.execute_reply.started": "2025-05-12T07:56:01.349923Z"
    }
   },
   "outputs": [
    {
     "name": "stdout",
     "output_type": "stream",
     "text": [
      "toxicity             | MCC: 0.1176 | ROC AUC: 0.6907 | PR AUC: 0.9692\n",
      "obscene              | MCC: 0.3942 | ROC AUC: 0.9748 | PR AUC: 0.9245\n",
      "threat               | MCC: 0.8176 | ROC AUC: 0.9945 | PR AUC: 0.9479\n",
      "insult               | MCC: 0.2832 | ROC AUC: 0.9266 | PR AUC: 0.9450\n",
      "identity_attack      | MCC: 0.7132 | ROC AUC: 0.9682 | PR AUC: 0.9237\n",
      "sexual_explicit      | MCC: 0.6935 | ROC AUC: 0.9816 | PR AUC: 0.8496\n"
     ]
    }
   ],
   "source": [
    "# 📊 Výpočet MCC a AUC metrík pre každú triedu\n",
    "from sklearn.metrics import matthews_corrcoef, roc_auc_score, precision_recall_curve, auc\n",
    "\n",
    "for i, label in enumerate(label_cols):\n",
    "    mcc = matthews_corrcoef(labels[:, i], preds[:, i])\n",
    "    try:\n",
    "        roc_auc = roc_auc_score(labels[:, i], probs[:, i])\n",
    "    except:\n",
    "        roc_auc = float('nan')\n",
    "    precision, recall, _ = precision_recall_curve(labels[:, i], probs[:, i])\n",
    "    pr_auc = auc(recall, precision)\n",
    "    print(f\"{label:20} | MCC: {mcc:.4f} | ROC AUC: {roc_auc:.4f} | PR AUC: {pr_auc:.4f}\")\n"
   ]
  },
  {
   "cell_type": "code",
   "execution_count": 24,
   "id": "1b78a117-7d8f-4b24-8301-0ef5736fb819",
   "metadata": {
    "execution": {
     "iopub.execute_input": "2025-05-12T08:32:50.647444Z",
     "iopub.status.busy": "2025-05-12T08:32:50.647116Z",
     "iopub.status.idle": "2025-05-12T08:32:50.961970Z",
     "shell.execute_reply": "2025-05-12T08:32:50.960993Z",
     "shell.execute_reply.started": "2025-05-12T08:32:50.647424Z"
    }
   },
   "outputs": [
    {
     "name": "stdout",
     "output_type": "stream",
     "text": [
      "rm: cannot remove '/kaggle/working/final_results_multilabel.zip': No such file or directory\n"
     ]
    },
    {
     "name": "stderr",
     "output_type": "stream",
     "text": [
      "huggingface/tokenizers: The current process just got forked, after parallelism has already been used. Disabling parallelism to avoid deadlocks...\n",
      "To disable this warning, you can either:\n",
      "\t- Avoid using `tokenizers` before the fork if possible\n",
      "\t- Explicitly set the environment variable TOKENIZERS_PARALLELISM=(true | false)\n",
      "huggingface/tokenizers: The current process just got forked, after parallelism has already been used. Disabling parallelism to avoid deadlocks...\n",
      "To disable this warning, you can either:\n",
      "\t- Avoid using `tokenizers` before the fork if possible\n",
      "\t- Explicitly set the environment variable TOKENIZERS_PARALLELISM=(true | false)\n"
     ]
    }
   ],
   "source": [
    "# Odstráni súbor\n",
    "!rm /kaggle/working/final_results_multilabel.zip\n",
    "\n",
    "# Odstráni celý priečinok rekurzívne\n",
    "!rm -r /kaggle/working/final_results_multilabel.zip\n"
   ]
  },
  {
   "cell_type": "code",
   "execution_count": null,
   "id": "48ec01de",
   "metadata": {},
   "outputs": [],
   "source": [
    "# 📈 F1 Micro po epochách – ako náhrada za accuracy\n",
    "import matplotlib.pyplot as plt\n",
    "\n",
    "epoch_logs = [x for x in trainer.state.log_history if \"epoch\" in x and \"eval_f1_micro\" in x]\n",
    "f1_micro_epoch = [x[\"eval_f1_micro\"] for x in epoch_logs]\n",
    "epochs = [x[\"epoch\"] for x in epoch_logs]\n",
    "\n",
    "def smooth(values, alpha=0.3):\n",
    "    smoothed = []\n",
    "    last = values[0]\n",
    "    for v in values:\n",
    "        smoothed_val = alpha * v + (1 - alpha) * last\n",
    "        smoothed.append(smoothed_val)\n",
    "        last = smoothed_val\n",
    "    return smoothed\n",
    "\n",
    "plt.figure(figsize=(10, 6))\n",
    "plt.plot(epochs, smooth(f1_micro_epoch), marker='o', linewidth=2, label=\"F1 Micro\")\n",
    "plt.xlabel(\"Epochs\", fontsize=14)\n",
    "plt.ylabel(\"F1 Micro\", fontsize=14)\n",
    "plt.title(\"Model Performance Over Epochs\", fontsize=16)\n",
    "plt.grid(True)\n",
    "plt.legend()\n",
    "plt.tight_layout()\n",
    "plt.savefig(\"results/accuracy_graph.png\", dpi=300)\n",
    "plt.show()\n"
   ]
  },
  {
   "cell_type": "code",
   "execution_count": null,
   "id": "61bf2bd0",
   "metadata": {},
   "outputs": [],
   "source": [
    "# 📉 Zlúčené ROC a PR krivky pre všetky triedy\n",
    "from sklearn.metrics import roc_curve, precision_recall_curve, auc\n",
    "\n",
    "# ROC\n",
    "plt.figure(figsize=(8, 6))\n",
    "for i, label in enumerate(label_cols):\n",
    "    fpr, tpr, _ = roc_curve(labels[:, i], probs[:, i])\n",
    "    roc_auc = auc(fpr, tpr)\n",
    "    plt.plot(fpr, tpr, label=f\"{label} (AUC = {roc_auc:.2f})\")\n",
    "plt.plot([0, 1], [0, 1], 'k--')\n",
    "plt.title(\"ROC Curve (All Labels)\")\n",
    "plt.xlabel(\"False Positive Rate\")\n",
    "plt.ylabel(\"True Positive Rate\")\n",
    "plt.legend()\n",
    "plt.grid(True)\n",
    "plt.tight_layout()\n",
    "plt.savefig(\"results/roc_curve.png\", dpi=300)\n",
    "plt.show()\n",
    "\n",
    "# PR\n",
    "plt.figure(figsize=(8, 6))\n",
    "for i, label in enumerate(label_cols):\n",
    "    precision, recall, _ = precision_recall_curve(labels[:, i], probs[:, i])\n",
    "    pr_auc = auc(recall, precision)\n",
    "    plt.plot(recall, precision, label=f\"{label} (AUC = {pr_auc:.2f})\")\n",
    "plt.title(\"Precision-Recall Curve (All Labels)\")\n",
    "plt.xlabel(\"Recall\")\n",
    "plt.ylabel(\"Precision\")\n",
    "plt.legend()\n",
    "plt.grid(True)\n",
    "plt.tight_layout()\n",
    "plt.savefig(\"results/pr_curve.png\", dpi=300)\n",
    "plt.show()\n"
   ]
  }
 ],
 "metadata": {
  "kaggle": {
   "accelerator": "gpu",
   "dataSources": [
    {
     "datasetId": 7395192,
     "sourceId": 11779261,
     "sourceType": "datasetVersion"
    }
   ],
   "dockerImageVersionId": 31011,
   "isGpuEnabled": true,
   "isInternetEnabled": true,
   "language": "python",
   "sourceType": "notebook"
  },
  "kernelspec": {
   "display_name": "Python 3",
   "language": "python",
   "name": "python3"
  },
  "language_info": {
   "codemirror_mode": {
    "name": "ipython",
    "version": 3
   },
   "file_extension": ".py",
   "mimetype": "text/x-python",
   "name": "python",
   "nbconvert_exporter": "python",
   "pygments_lexer": "ipython3",
   "version": "3.11.11"
  }
 },
 "nbformat": 4,
 "nbformat_minor": 5
}
